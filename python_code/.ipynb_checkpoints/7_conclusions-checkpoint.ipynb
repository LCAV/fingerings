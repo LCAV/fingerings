{
 "cells": [
  {
   "cell_type": "markdown",
   "metadata": {},
   "source": [
    "## VII. CONCLUSION <br />\n",
    "\n",
    "<div style=\"text-align:justified;text-indent:15px;\"> In this project, we have developed a simple, audio-based system that automatically estimates the fingering of a note played on an acoustic guitar. Building on theoretical results, we investigated several phenomena related to vibrating strings and different frequency-domain characteristics of guitar tones. We took a look at spectral estimation techniques, in order to develop a method that estimates accurately the inharmonicity constant. The latter was then used as a standalone feature for the fingering estimation task. </div><br />\n",
    "\n",
    "<div style=\"text-align:justified;\"> The results obtained with our system are however mixed. Even though the number of misclassification was fairly small for some strings, it reached almost 40 percent for one string. The reason is that the estimated inharmonicities of two strings (second and third) were very close, making the distinction between the two very hard. </div><br />\n",
    "\n",
    "<div style=\"text-align:justified;\"> Our simple system also has several limitations. First, we based our decisions solely on the inharmonicity phenomenon, and did not take a look at other audio features. As we have seen, an imprecise estimated inharmonicity will yield a misclassification. Second, the system has been trained on half of the dataset, corresponding to 390 recordings. It is not really realistic to require this large number of training examples for a practical system. </div><br />\n",
    "\n",
    "<div style=\"text-align:justified;\"> Future work should first focus on a more robust partial tracking method, in order to improve the accuracy of inharmonicity estimation. Another interesting direction is to investigate the potential of other audio features, such as the time envelope, the partials amplitudes, and other quantities, in distinguishing different fingerings. </div>\n",
    "\n",
    "\n",
    "## ACKNOWLEDGEMENTS\n",
    "\n",
    "The author thanks Marta Martinez-Camara and Robin Scheibler for their patience and their valuable suggestions.\n",
    "\n",
    "\n",
    "## REFERENCES\n",
    "\n",
    "\n",
    "##### Books and scientific papers\n",
    "\n",
    "[1] Arthur H. Benade, *Fundamentals of Musical Acoustics*, Dover, 2nd edition, 1990.\n",
    "\n",
    "[2] Neville H. Fletcher, Thomas D. Rossing, *The Physics of Musical Instruments*, Springer, 2008.\n",
    "\n",
    "[3] Monson H. Hayes, *Statistical Digital Signal Processing and Modeling*, Wiley, 1996.\n",
    "\n",
    "[4] David Gerhard, *Pitch Extraction and Fundamental Frequency: History and Current Techniques*, Technical Report TR-CS 2003-06, 2003.\n",
    "\n",
    "[5] Jakob Abeßer, *Automatic String Detection for Bass Guitar and Electric Guitar*, International Symposium on Computer Music Modeling and Retrieval, 2012.\n",
    "\n",
    "[6] Barbancho et al., *Automatic Transcription of Guitar Chords and Fingering from Audio*, IEEE Transactions on\n",
    "Audio, Speech, and Language Processing, 2011.\n",
    "\n",
    "[7] Toru Kobayashi et al., *Inharmonicity of Guitar String Vibration Influenced by Body Resonance and Fingering Position*, Proceedings of the International Symposium on Music Acoustics, 2010.\n",
    "\n",
    "\n",
    "##### Electronic resources (images and animations)\n",
    "\n",
    "- http://scilib-physics.narod.ru/Capra/Tao/index.html\n",
    "\n",
    "- http://www.acs.psu.edu/drussell/Demos/string/Fixed.html\n",
    "\n",
    "- https://ell.stackexchange.com/questions/111764/why-is-a-guitar-neck-called-a-neck\n",
    "\n",
    "- http://www.church-musician-jobs.com/easy-acoustic-guitar-tab.html <br />"
   ]
  }
 ],
 "metadata": {
  "anaconda-cloud": {},
  "kernelspec": {
   "display_name": "Python 2",
   "language": "python",
   "name": "python2"
  },
  "language_info": {
   "codemirror_mode": {
    "name": "ipython",
    "version": 2
   },
   "file_extension": ".py",
   "mimetype": "text/x-python",
   "name": "python",
   "nbconvert_exporter": "python",
   "pygments_lexer": "ipython2",
   "version": "2.7.9"
  }
 },
 "nbformat": 4,
 "nbformat_minor": 0
}
