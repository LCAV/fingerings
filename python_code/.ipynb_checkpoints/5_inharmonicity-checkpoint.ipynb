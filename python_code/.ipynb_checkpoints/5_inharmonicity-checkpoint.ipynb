{
 "cells": [
  {
   "cell_type": "markdown",
   "metadata": {},
   "source": [
    "## V. INHARMONICITY <br />\n",
    "\n",
    "<div style=\"text-align:justified;text-indent:15px;\"> It is usually agreed in the literature ([5], [6]) that inharmonicity is a distinctive feature in the fingering estimation task. In this chapter, we will take a closer look at this phenomenon, and how it can be used to distinguish different strings or fingerings. We will make use of some elements and ideas of spectral estimation that we developed in Chapter IV. Recall that the effect of string stiffness on the partials' frequencies can be summarized by the expression </div><br />\n",
    "\n",
    "\\begin{equation}\n",
    "    f_n \\approx n \\ f^{ideal}_1 \\ \\sqrt{1 + Bn^2},\n",
    "\\end{equation}\n",
    "\n",
    "<br /><div style=\"text-align:justified;\"> where $f^{ideal}_1$ is the fundamental frequency of the corresponding ideal flexible string, $n$ is the partial number and $B$ is the inharmonicity constant given by </div><br />\n",
    "\n",
    "\\begin{equation}\n",
    "    B = \\frac{\\pi^2 E S K^2}{T L^2}\n",
    "\\end{equation}\n",
    "\n",
    "<br /><div style=\"text-align:justified;\"> In the above equation, $E$ is the elastic modulus, $S$ is the cross-sectional area of the string, $K$ is the radius of gyration, $T$ is the applied tension and $L$ the string length. Theoretically, from the expression above, changing the string (its properties, such as radius or material) and/or the position on the fretboard (resulting in a different length) will change the inharmonicity coefficient $B$ and the resulting relation between the partials. The name \"inharmonicity\" comes from the fact that the partials do not appear in a perfect harmonic relation with the fundamental anymore, but are rather slightly inharmonic (shifted towards higher frequencies). Therefore, this phenomenon is indeed of interest to us and might be used to distinguish different strings or fingerings. </div>"
   ]
  },
  {
   "cell_type": "code",
   "execution_count": 99,
   "metadata": {
    "collapsed": false
   },
   "outputs": [],
   "source": [
    "%matplotlib inline\n",
    "%reload_ext autoreload\n",
    "%autoreload 2\n",
    "\n",
    "import numpy as np\n",
    "import matplotlib.pyplot as plt\n",
    "\n",
    "from scipy.io import wavfile\n",
    "import sounddevice as sd\n",
    "\n",
    "from spectral_grid_search import *\n",
    "from pitch_estimation import *\n",
    "from misc import *"
   ]
  },
  {
   "cell_type": "markdown",
   "metadata": {},
   "source": [
    "### V.I Global parameters"
   ]
  },
  {
   "cell_type": "code",
   "execution_count": 2,
   "metadata": {
    "collapsed": false
   },
   "outputs": [],
   "source": [
    "# string parameters\n",
    "fundamental_freqs = np.array([82.4, 110.0, 146.8, 196.0, 246.9, 329.6])\n",
    "\n",
    "string_diameters = (1/39.17) * np.array([47, 39, 30, 23, 14, 10]) * 1e-3\n",
    "string_length = .64\n",
    "\n",
    "p_bronze = 8600\n",
    "p_steel = 7850\n",
    "p_strings = p_bronze * (string_diameters/2)**2 * np.pi\n",
    "p_strings[4:] = p_steel * (string_diameters[4:]/2)**2 * np.pi\n",
    "\n",
    "tensions = 4 * (string_length**2) * (fundamental_freqs**2) * p_strings\n",
    "velocities = np.sqrt(tensions/p_strings)\n",
    "\n",
    "# general parameters\n",
    "max_mode = 8\n",
    "modes_num = np.arange(1, max_mode + 1)"
   ]
  },
  {
   "cell_type": "markdown",
   "metadata": {},
   "source": [
    "### V.II Theoretical inharmonicity curves <br />\n",
    "\n",
    "<div style=\"text-align:justified;\"> We first take a look at theoretical results to better understand the effect of string stiffness and inharmonicity. To do this, and inspired by [5] and [7], we explore the frequency difference between the partials of an idealized model (where all the partials are perfect harmonics) and those of a more complete model (bringing the string stiffness into the picture). We call these plots \"inharmonicity curves\" in the following. </div>"
   ]
  },
  {
   "cell_type": "code",
   "execution_count": 144,
   "metadata": {
    "collapsed": false,
    "scrolled": true
   },
   "outputs": [
    {
     "name": "stdout",
     "output_type": "stream",
     "text": [
      "\n",
      "\tTheoretical inharmonicity constants: [  2.71967381e-03   1.05079832e-03   3.49112923e-04   1.15111591e-04\n",
      "   5.39833272e-05   1.54550833e-05]\n",
      "\n"
     ]
    }
   ],
   "source": [
    "# elastic modulii (approximate values taken from Wikipedia)\n",
    "elastic_mod = 120 * 1e9 * np.ones(6)            # bronze, lower 4 strings\n",
    "elastic_mod[4:] = 220 * 1e9                     # steel, higher 2 strings\n",
    "\n",
    "# radii of gyration\n",
    "radii_gyration = string_diameters/4             # for cylindrical-shaped objects\n",
    "\n",
    "# theoretical inharmonicity constants (open strings, generic expression)\n",
    "inharmonicity_const = (np.pi**3 * elastic_mod * (string_diameters/2)**2 * radii_gyration**2) \\\n",
    "    / (tensions * string_length**2)\n",
    "    \n",
    "print(\"\\n\\tTheoretical inharmonicity constants: {bs}\\n\".format(bs=inharmonicity_const))"
   ]
  },
  {
   "cell_type": "code",
   "execution_count": 143,
   "metadata": {
    "collapsed": false,
    "scrolled": true
   },
   "outputs": [
    {
     "name": "stdout",
     "output_type": "stream",
     "text": [
      "Ideal harmonics (w/o stiffness) [Hz]: \n",
      "[  82.4  164.8  247.2  329.6  412.   494.4  576.8  659.2]\n",
      "\n",
      "Inharmonic partials (w/ stiffness) [Hz]: \n",
      "[  82.51197448  165.69397973  250.2070753   336.69487479  425.7760066\n",
      "  518.03784464  614.03171243  714.26962654]\n"
     ]
    },
    {
     "data": {
      "image/png": "[encoded data removed]",
      "text/plain": [
       "<matplotlib.figure.Figure at 0x17447115b38>"
      ]
     },
     "metadata": {},
     "output_type": "display_data"
    }
   ],
   "source": [
    "# example parameters\n",
    "string_num = 1\n",
    "fret_pos = 0\n",
    "current_length = compute_string_length(string_length, fret_pos)\n",
    "current_velocity = velocities[string_num - 1]\n",
    "curr_diameter = string_diameters[string_num - 1]\n",
    "curr_rad_gyr = radii_gyration[string_num - 1]\n",
    "curr_elastic_mod = elastic_mod[string_num - 1]\n",
    "curr_tension = tensions[string_num - 1]\n",
    "f_0 = current_velocity/(2*current_length)\n",
    "\n",
    "# ideal harmonics (perfet integer multiples of the fundamental frequency)\n",
    "ideal_harmonics = modes_num * f_0\n",
    "print(\"Ideal harmonics (w/o stiffness) [Hz]: \\n{ideal}\".format(ideal=ideal_harmonics))\n",
    "\n",
    "# compute the theoretical inharmonicity coefficient for the given fingering\n",
    "curr_inharmonicity = (np.pi**3 * curr_elastic_mod * (curr_diameter/2)**2 * curr_rad_gyr**2) \\\n",
    "    / (curr_tension * current_length**2)\n",
    "\n",
    "# compute the theoretical partials\n",
    "partials_pinned = modes_num * f_0 * np.sqrt(1 + curr_inharmonicity * modes_num**2) \n",
    "print(\"\\nInharmonic partials (w/ stiffness) [Hz]: \\n{part}\".format(part=partials_pinned))\n",
    "\n",
    "# measure the distance between ideal harmonics and inharmonic partials (\"normalized\" frequency difference)\n",
    "norm_freq_diff_pinned = (partials_pinned - ideal_harmonics)/ideal_harmonics[0]\n",
    "\n",
    "# visualization: inharmonicity curve\n",
    "plt.figure()\n",
    "plt.plot(modes_num, norm_freq_diff_pinned, 'bo--')\n",
    "plt.xlabel('Partial number')\n",
    "plt.ylabel('Normalized frequency difference')\n",
    "plt.title('Inharmonicity curve')\n",
    "plt.grid()\n",
    "plt.tight_layout()\n",
    "plt.show()"
   ]
  },
  {
   "cell_type": "markdown",
   "metadata": {},
   "source": [
    "On the theoretical side, we observed the following:\n",
    "\n",
    "\n",
    "* Thicker strings are more inharmonic: By comparing the theoretical inharmonicity curves for all the open strings, we can see that thicker strings are more prone to inharmonicity. The larger cross-sectional areas and radii of gyration make the inharmonicity constant $B$ larger, thus increasing the frequency devations from the ideal harmonics.\n",
    "\n",
    "\n",
    "* Fretted notes are more inharmonic than open notes: For every string, when comparing the inharmonicity curves for the open and fretted notes, we see that the inharmonicity increases as we go up the fingerboard. Indeed, assuming that all other parameters remain constant, only the length $L$ decreases, resulting in a larger $B$ and therefore larger deviations from the theoretical harmonics.\n",
    "\n",
    "\n",
    "* Playing the same note on different strings: When \"playing\" the same note on two adjacent strings the inharmonicity varies by a certain factor. The effect is even more pronounced if the strings are \"further apart\".\n",
    "\n",
    "\n",
    "### V.III Inharmonicity estimation for real recordings <br />\n",
    "\n",
    "<div style=\"text-align:justified;\"> We now want to compare the theoretical results with what we observe in practice with real recordings. The biggest difficulty is to estimate the inharmonicity coefficient $\\hat{B}$ accurately. The rest of this chapter is thus dedicated to inharmonicity estimation. We first describe our method, and then apply it on some real recordings. </div>\n",
    "\n",
    "##### Tracking the partials\n",
    "\n",
    "In order to track the partials in successive time frames, we proceed as follows.\n",
    "\n",
    "+ We first estimate the fundamental frequency $f_0$ of the note that is being played. To that purpose, we use a simple pitch estimation method based on frequency ratios (Piszalzski's method, inspired by ([4]).\n",
    "\n",
    "\n",
    "+ The recording is then divided into overlapping, windowed frames (STFT-style). The amount of overlap, the type of window, and the duration of each frame are parameters. \n",
    "\n",
    "\n",
    "+ Then, for each time frame, we estimate the spectrum in some pre-defined frequency regions by zooming in around the ideal harmonics of the estimated fundamental. We have essentially three alternatives here, \n",
    "    \n",
    "    + regular DFT: Perform a full DFT on each frame with a reasonable resolution. The problem is that we need a very fine frequency grid to be able to track the partials with precision and estimate the inharmonicity correctly, which requires a lot of computation time.\n",
    "    \n",
    "    + modified regular MUSIC: Use MUSIC to evaluate a frequency estimate of the spectrum in selected regions with a fine resolution. The advantage is that MUSIC makes some assumptions on the underlying signal instead of simply using the DFT. However, it is sensible to the parameters we use and not that efficient computationally.\n",
    "    \n",
    "    + modified Goertzel's algorithm: Evaluate the DFT in selected intervals with a fine resolution using Goertzel's method. The advantage is that we do not have to evaluate the whole DFT, thus reducing the computational burden. However, the frequency resolution is still limited by the window size. A simple improvement is to \"extrapolate\" around the spectral peaks by fitting a polynomial to approximate the true partial.\n",
    "\n",
    "\n",
    "<br /><div style=\"text-align:justified;\"> Mathematically, the estimated partials are obtained as local peaks in small frequency regions, i.e </div><br />\n",
    "\n",
    "\\begin{equation}\n",
    "    \\hat{f}_k^{(i)} = arg \\ max_{ \\ f \\in [k f_0 - k \\Delta_f, \\ k f_0 + k \\Delta_f]} \\ \\Big({P^{(i)}\\Big(e^{j 2 \\pi f}\\Big)\\Big)}\n",
    "\\end{equation}\n",
    "\n",
    "<br /><div style=\"text-align:justified;\"> In the above, $i$ is the frame number, $k$ is the partial number, $\\Delta_f$ is a small frequency interval (parameter) and $P^{(i)}(e^{j 2 \\pi f})$ is the estimated spectrum in the $i$-th frame (either the output of FFT, MUSIC or Goertzel's algorithm, depending on the method we used in the previous step). </div>\n",
    "\n",
    "\n",
    "##### Inharmonicity estimation <br />\n",
    "\n",
    "<div style=\"text-align:justified;\"> From the extracted partials $\\hat{f}_k^{(i)}$, we now aim to estimate the inharmonicity coefficient $\\hat{B}$. Theoretically, from the expression </div><br />\n",
    "\n",
    "\\begin{equation}\n",
    "    f_n \\approx n \\ f^{ideal}_1 \\ \\sqrt{1 + B \\ n^2}\n",
    "\\end{equation}\n",
    "\n",
    "<br /><div style=\"text-align:justified;\"> we can express $B$ as </div><br />\n",
    "\n",
    "\\begin{equation}\n",
    "    B \\approx \\frac{(f_n/f_1)^2 - n^2}{n^4}\n",
    "\\end{equation}\n",
    "\n",
    "\n",
    "<br /><div style=\"text-align:justified;\"> The above expression should hold for any partial number $n$. However, there will be some variation in practice, mainly because the partial tracking process is not perfect. Thus, one approach is to use all the available estimated partials and perform a least squares fit. The optimal estimator in the least squares sense, $\\hat{B}_{LS}$, is simply the average. Recall that the first $K$ partials have been estimated in $I$ frames. Thus, we have at our disposal a set $\\{ \\hat{f}_k^{(i)} \\}_{i = 1, ..., I, k = 1, ..., K}$, where $i$ represents the frame index and $k$ the partial index. The optimal estimator is then </div><br />\n",
    "\n",
    "\n",
    "\\begin{equation}\n",
    "    \\hat{B}_{LS} = \\frac{1}{(K - 1)I} \\sum_{i=1}^{I} \\sum_{k=2}^{K} \\frac{(\\hat{f}^{(i)}_k/\\hat{f}^{(i)}_1)^2 - k^2}{k^4}\n",
    "\\end{equation}\n",
    "\n",
    "\n",
    "<br /><div style=\"text-align:justified;\"> Note that we discard the estimated fundamentals in every frame (the terms where $k$ = 1) since it will always yield a zero value and therefore bias the average. Various tricks and \"quick fixes\" can be added as well. One can remove all the negative values, regarded as \"outliers\" from a theoretical point of view. Also, one can perform a weighted average instead, taking the partials' (relative) amplitude as the weights. Indeed, it is more likely that strong partials will be relatively well estimated and therefore should have a stronger impact on the final estimate, while very weak ones might be off and should not affect the average too much. </div>\n",
    "\n",
    "<br /><div style=\"text-align:justified;\"> As an alternative, we describe another approach inspired by ([5]), that worked surprisingly well even though the explanation behind is not very clear. Let us express $B$ as the coefficient of a degree-4 polynomial, as </div><br />\n",
    "\n",
    "\n",
    "\\begin{equation}\n",
    "    \\Big(\\frac{f_n}{f_1}\\Big)^2 = n^2 + B \\ n^4\n",
    "\\end{equation}\n",
    "\n",
    "\n",
    "<br /><div style=\"text-align:justified;\"> Again, we use all the available estimated partials, but now perform a polynomial fit. All the ratios $(\\hat{f}_k/\\hat{f}_1)^2$ are stacked in a vector and used to fit a polynomial of degree 4 using the theoretical relation above. More precisely, we will perform a two-dimensional least squares fit, which is equivalent to fitting a polynomial but forcing some coefficients to 0. We form the following system </div><br />\n",
    "\n",
    "\n",
    "\\begin{equation}\n",
    "\\begin{bmatrix}\\Big(\\frac{\\hat{f}_1^{(1)}}{\\hat{f}_1^{(1)}}\\Big)^2\\\\ ...\\\\ \\Big(\\frac{\\hat{f}_K^{(1)}}{\\hat{f}_1^{(1)}}\\Big)^2\\\\ ...\\\\ \\Big(\\frac{\\hat{f}_1^{(I)}}{\\hat{f}_1^{(I)}}\\Big)^2\\\\ ... \\\\ \\Big(\\frac{\\hat{f}_K^{(I)}}{\\hat{f}_1^{(I)}}\\Big)^2\\end{bmatrix} = \\begin{bmatrix}1 & 1\\\\4 & 16\\\\ ... & ...\\\\ ... & ...\\\\ ... & ...\\\\ ... & ...\\\\ ... & ...\\\\ ... & ...\\\\ M^2 & M^4\\end{bmatrix} \\cdot \\begin{bmatrix}\\alpha\\\\\\hat{B}\\\\\\end{bmatrix}\n",
    "\\end{equation}\n",
    "\n",
    "\n",
    "<br /><div style=\"text-align:justified;\"> Solving the above system in a least squares fashion yields an estimate of the inharmonicity coefficient $\\hat{B}$. </div><br />\n",
    "\n",
    "<div style=\"text-align:justified;\">Note: Even though the theoretical motivations behind this two-dimensional least squares are somewhat obscure, this method showed mure more coherent results than the one-dimensional version. For example, we observed a monotonically increasing inharmonicity when moving up the fretboard, which agrees with the formula and the theory. </div>"
   ]
  },
  {
   "cell_type": "code",
   "execution_count": 130,
   "metadata": {
    "collapsed": false
   },
   "outputs": [],
   "source": [
    "# recording parameters\n",
    "PATH_RECORDINGS = '../recordings/string_6/string_6_fret_12/'\n",
    "file_name = 'string_6_fret_12_take_1.wav'\n",
    "\n",
    "# read the recording\n",
    "fs_recording, current_recording = wavfile.read(PATH_RECORDINGS + file_name)\n",
    "y = current_recording / max(current_recording)\n",
    "\n",
    "# we consider the first 1.5 seconds of the recording\n",
    "y = y[:int(1.5*fs_recording)]\n",
    "\n",
    "# time frames' parameters\n",
    "tot_num_samp = y.shape[0]\n",
    "frame_duration = .75\n",
    "num_samp_per_frame = int(fs_recording * frame_duration)\n",
    "window = np.hamming(num_samp_per_frame)\n",
    "hop_size = int(num_samp_per_frame/2)\n",
    "num_frames = int((tot_num_samp - num_samp_per_frame)/hop_size)"
   ]
  },
  {
   "cell_type": "code",
   "execution_count": 141,
   "metadata": {
    "collapsed": false,
    "scrolled": false
   },
   "outputs": [
    {
     "name": "stdout",
     "output_type": "stream",
     "text": [
      "\n",
      "Estimated fundamental [Hz]: 164.8\n",
      "\n",
      "Frame n°1\n",
      "\n",
      "Estimated partials using MUSIC: [  166.25   333.5    500.6    668.4    837.3   1005.75  1177.3   1348.8 ]\n",
      "\n",
      "Estimated partials using Goertzel: [  166.53917398   333.53887715   500.55261621   668.511355     837.5392674\n",
      "  1006.45999969  1177.32152789  1348.9074024 ]\n"
     ]
    },
    {
     "data": {
      "image/png": "[encoded data removed]",
      "text/plain": [
       "<matplotlib.figure.Figure at 0x17446f6b7f0>"
      ]
     },
     "metadata": {},
     "output_type": "display_data"
    },
    {
     "name": "stdout",
     "output_type": "stream",
     "text": [
      "\n",
      "Frame n°2\n",
      "\n",
      "Estimated partials using MUSIC: [  166.3    333.5    500.7    668.15   836.8   1005.55  1176.75  1348.15]\n",
      "\n",
      "Estimated partials using Goertzel: [  166.50067363   333.38985715   500.77840398   668.07671463   837.18463095\n",
      "  1006.06987847  1176.73171863  1348.07292282]\n"
     ]
    },
    {
     "data": {
      "image/png": "[encoded data removed]",
      "text/plain": [
       "<matplotlib.figure.Figure at 0x17447999208>"
      ]
     },
     "metadata": {},
     "output_type": "display_data"
    }
   ],
   "source": [
    "# parameters & initializations\n",
    "estimated_partials_music = np.zeros([max_mode, num_frames])\n",
    "estimated_partials_goertzel = np.zeros([max_mode, num_frames])\n",
    "\n",
    "norm_freq_diff_recording_music = np.zeros([max_mode, num_frames])\n",
    "norm_freq_diff_recording_goertzel = np.zeros([max_mode, num_frames])\n",
    "\n",
    "partials_amps_music = np.zeros([max_mode, num_frames])\n",
    "partials_amps_goertzel = np.zeros([max_mode, num_frames])\n",
    "\n",
    "NFFT = 2**13\n",
    "tol = .05\n",
    "max_num_peaks = 10\n",
    "\n",
    "M = 1000\n",
    "freq_res = .05\n",
    "\n",
    "delta_f = 5\n",
    "\n",
    "\n",
    "# estimate the fundamental frequency\n",
    "estimated_fundamental = estimate_fundamental(np.abs(np.fft.rfft(np.hamming(y.shape[0]) * y, NFFT)), fs_recording, \\\n",
    "                                                 NFFT, tol, max_num_peaks)\n",
    "print(\"\\nEstimated fundamental [Hz]: {est_fund}\".format(est_fund=estimated_fundamental))\n",
    "\n",
    "# small, progressively larger frequency intervals around the ideal harmonics\n",
    "freq_ranges = [(int(k*estimated_fundamental - k*delta_f), int(k*estimated_fundamental + k*delta_f)) \\\n",
    "               for k in range(1, max_mode + 1)]\n",
    "\n",
    "# analysis of successive frames\n",
    "for n in range(num_frames):\n",
    "    \n",
    "    # extract the current time frame (windowed block)\n",
    "    curr_frame = y[n*hop_size:n*hop_size + num_samp_per_frame] * window\n",
    "    \n",
    "    # method 1: estimate the partials using our modified MUSIC method\n",
    "    estimated_partials_music[:, n], partials_amps_music[:, n] = grid_music(curr_frame, 40, M, len(curr_frame), \\\n",
    "                                          fs_recording, freq_res, freq_ranges)\n",
    "    \n",
    "    # method 2: estimate the partials using our modified Goertzel's algorithm\n",
    "    estimated_partials_goertzel[:, n], partials_amps_goertzel[:, n] = goertzel(curr_frame, fs_recording, frame_duration, freq_ranges)\n",
    "    \n",
    "    # print the status of the current frame\n",
    "    print(\"\\nFrame n°{frame_num}\".format(frame_num=n+1))\n",
    "    print(\"\\nEstimated partials using MUSIC: {est_part}\".format(est_part=estimated_partials_music[:, n]))\n",
    "    print(\"\\nEstimated partials using Goertzel: {est_part}\".format(est_part=estimated_partials_goertzel[:, n]))\n",
    "    \n",
    "    # OPTIONAL: visualize the inharmonicity curves\n",
    "    norm_freq_diff_recording_music[:, n] = (estimated_partials_music[:, n] - \\\n",
    "                                      (estimated_partials_music[0, n]*modes_num))/(estimated_partials_music[0, n])\n",
    "    norm_freq_diff_recording_goertzel[:, n] = (estimated_partials_goertzel[:, n] - \\\n",
    "                                      (estimated_partials_goertzel[0, n]*modes_num))/(estimated_partials_goertzel[0, n])\n",
    "    \n",
    "    plt.plot(modes_num, norm_freq_diff_recording_music[:, n], 'ro-')\n",
    "    plt.plot(modes_num, norm_freq_diff_recording_goertzel[:, n], 'gx-')\n",
    "    plt.plot(modes_num, np.zeros(max_mode), 'k--')\n",
    "    plt.xlabel('Partial number')\n",
    "    plt.ylabel('Normalized frequency difference')\n",
    "    plt.title('Inharmonicity curves')\n",
    "    plt.legend(['MUSIC', 'Goertzel'])\n",
    "    plt.grid()\n",
    "    plt.tight_layout()\n",
    "    plt.show()"
   ]
  },
  {
   "cell_type": "code",
   "execution_count": 145,
   "metadata": {
    "collapsed": false
   },
   "outputs": [
    {
     "name": "stdout",
     "output_type": "stream",
     "text": [
      "\n",
      "\n",
      "Method 1: Average\n",
      "\n",
      "\tEstimated inharmonicity coefficient (MUSIC): 0.0006760830979102694\n",
      "\n",
      "\tEstimated inharmonicity coefficient (Goertzel): 0.000455739864456817\n",
      "\n",
      "\n",
      "\n",
      "Method 2: Polynomial fit\n",
      "\n",
      "\tEstimated inharmonicity coefficient (MUSIC): 0.00037856447617679235\n",
      "\n",
      "\tEstimated inharmonicity coefficient (Goertzel): 0.00035874339956216565\n",
      "\n"
     ]
    }
   ],
   "source": [
    "# estimate the inharmonicity constant\n",
    "\n",
    "# method 1: average\n",
    "# stack up the individual estimates\n",
    "stacked_b_hats_music = np.hstack([((estimated_partials_music[1:, n]/estimated_partials_music[0, n])**2 \\\n",
    "           - modes_num[1:]**2)/modes_num[1:]**4 for n in range(num_frames)])\n",
    "stacked_b_hats_goertzel = np.hstack([((estimated_partials_goertzel[1:, n]/estimated_partials_goertzel[0, n])**2 \\\n",
    "           - modes_num[1:]**2)/modes_num[1:]**4 for n in range(num_frames)])\n",
    "\n",
    "# remove the negative ones (declared as \"outliers\")\n",
    "positive_b_hats_music = stacked_b_hats_music[np.where(stacked_b_hats_music > 0)]\n",
    "positive_b_hats_goertzel = stacked_b_hats_goertzel[np.where(stacked_b_hats_goertzel > 0)]\n",
    "\n",
    "# compute the average\n",
    "b_hat_music_avg = np.mean(positive_b_hats_music)\n",
    "b_hat_goertzel_avg = np.mean(positive_b_hats_goertzel)\n",
    "\n",
    "print(\"\\n\\nMethod 1: Average\")\n",
    "print(\"\\n\\tEstimated inharmonicity coefficient (MUSIC): {b_hat}\\n\".format(b_hat=b_hat_music_avg))\n",
    "print(\"\\tEstimated inharmonicity coefficient (Goertzel): {b_hat}\\n\".format(b_hat=b_hat_goertzel_avg))\n",
    "\n",
    "# method 2: polynomial fit\n",
    "stacked_freq_ratios_music = np.hstack([(estimated_partials_music[:, n]/estimated_partials_music[0, n])**2 for n in range(num_frames)])\n",
    "b_hat_music_poly = estimate_inharmonicity_poly(1, stacked_freq_ratios_music, num_frames, max_mode)\n",
    "\n",
    "stacked_freq_ratios_goertzel = np.hstack([(estimated_partials_goertzel[:, n]/estimated_partials_goertzel[0, n])**2 for n in range(num_frames)])\n",
    "b_hat_goertzel_poly = estimate_inharmonicity_poly(1, stacked_freq_ratios_goertzel, num_frames, max_mode)\n",
    "\n",
    "print(\"\\n\\nMethod 2: Polynomial fit\")\n",
    "print(\"\\n\\tEstimated inharmonicity coefficient (MUSIC): {b_hat}\".format(b_hat=b_hat_music_poly))\n",
    "print(\"\\n\\tEstimated inharmonicity coefficient (Goertzel): {b_hat}\\n\".format(b_hat=b_hat_goertzel_poly))"
   ]
  },
  {
   "cell_type": "markdown",
   "metadata": {},
   "source": [
    "<div style=\"text-align:justified;\"> By testing the different methods for estimating the inharmonicity constant, we realized that the second alternative (polynomial fit) was surprisingly more coherent. Indeed, the estimated values stay in a reasonable range (at least within the same order of magnitude) for the same position, in contrast to the other, theoretically-correct average method. </div><br />\n",
    "\n",
    "<div style=\"text-align:justified;\"> Additionally, we must point out that the methods do not work equally well for all the positions and strings. Besides the inevitable randomness in the recordings (in particular in terms of playing style), we believe that the guitar body might influence (and most likely worsen) the partial tracking accuracy. </div><br />\n",
    "\n",
    "<div style=\"text-align:justified;\"> Now that we developed a method to estimate the inharmonicity of a recording, we will turn to a more complete system, and test it on all the data we have. This is the subject of the next chapter. </div>"
   ]
  }
 ],
 "metadata": {
  "anaconda-cloud": {},
  "kernelspec": {
   "display_name": "Python [Root]",
   "language": "python",
   "name": "Python [Root]"
  },
  "language_info": {
   "codemirror_mode": {
    "name": "ipython",
    "version": 3
   },
   "file_extension": ".py",
   "mimetype": "text/x-python",
   "name": "python",
   "nbconvert_exporter": "python",
   "pygments_lexer": "ipython3",
   "version": "3.5.2"
  }
 },
 "nbformat": 4,
 "nbformat_minor": 0
}
