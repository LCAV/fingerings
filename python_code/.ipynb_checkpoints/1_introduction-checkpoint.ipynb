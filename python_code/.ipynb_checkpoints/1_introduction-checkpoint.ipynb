{
 "cells": [
  {
   "cell_type": "markdown",
   "metadata": {
    "collapsed": true
   },
   "source": [
    "# <center>Semester project - Guessing the fingerings</center>\n",
    "### <center>Raphaël Latty</center>\n",
    "#### <center>Supervised by Marta Martinez-Camara and Robin Scheibler</center>\n",
    "#### <center>EPFL - LCAV - Spring 2017</center>"
   ]
  },
  {
   "cell_type": "markdown",
   "metadata": {},
   "source": [
    "<center>   _Abstract_ - On most musical instruments, it is possible to play the same note in multiple ways. The problem of estimating the position used to play a particular note or chord may be of interest and has several applications, for instance in musical education, among others. This topic stands at the intersection of several disciplines, in particular Musical Acoustics and Signal Processing. The development of signal processing tools allows one to analyze and process musical sounds, and to study the behavior of musical instruemnts. The guitar is a common, widespread instrument. </center>"
   ]
  },
  {
   "cell_type": "markdown",
   "metadata": {},
   "source": [
    "#### I. Introduction\n",
    "\n",
    "..."
   ]
  }
 ],
 "metadata": {
  "kernelspec": {
   "display_name": "Python [Root]",
   "language": "python",
   "name": "Python [Root]"
  },
  "language_info": {
   "codemirror_mode": {
    "name": "ipython",
    "version": 3
   },
   "file_extension": ".py",
   "mimetype": "text/x-python",
   "name": "python",
   "nbconvert_exporter": "python",
   "pygments_lexer": "ipython3",
   "version": "3.5.2"
  }
 },
 "nbformat": 4,
 "nbformat_minor": 0
}
